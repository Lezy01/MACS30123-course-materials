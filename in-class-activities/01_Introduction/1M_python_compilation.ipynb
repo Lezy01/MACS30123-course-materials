{
  "cells": [
    {
      "cell_type": "markdown",
      "metadata": {
        "id": "F9rXYh53ysHb"
      },
      "source": [
        "<a href=\"https://colab.research.google.com/drive/1xp1hk0gnvFQgVD5Avvi7DqoMMlLAJptu?usp=sharing\" target=\"_parent\"><img src=\"https://colab.research.google.com/assets/colab-badge.svg\" alt=\"Open In Colab\"/></a>\n",
        "\n",
        "# Compiling Python with `numba` and `cython`\n",
        "\n",
        "Reproduce Python function from lecture and measure its execution time:"
      ]
    },
    {
      "cell_type": "code",
      "execution_count": 1,
      "metadata": {
        "colab": {
          "base_uri": "https://localhost:8080/"
        },
        "id": "FUFJ7Z3lsWCv",
        "outputId": "18f94496-ab46-4dc3-f728-8d5884895c37"
      },
      "outputs": [
        {
          "name": "stdout",
          "output_type": "stream",
          "text": [
            "CPU times: user 34.7 ms, sys: 3 ms, total: 37.7 ms\n",
            "Wall time: 47.2 ms\n"
          ]
        },
        {
          "data": {
            "text/plain": [
              "inf"
            ]
          },
          "execution_count": 1,
          "metadata": {},
          "output_type": "execute_result"
        }
      ],
      "source": [
        "def loop(x, r):\n",
        "    for i in range(r):\n",
        "        x *= 2.5\n",
        "    return x\n",
        "\n",
        "%time loop(2, 10**6)\n",
        "\n",
        "# %time calculates the time taken to run the code"
      ]
    },
    {
      "cell_type": "markdown",
      "metadata": {
        "id": "wRHr2CYb2gvC"
      },
      "source": [
        "## Using `numba`\n",
        "\n",
        "First, let's try compiling \"Just in Time\" using `numba`:"
      ]
    },
    {
      "cell_type": "markdown",
      "metadata": {},
      "source": [
        "from numba import jit \n",
        "\n",
        "从 numba 库中导入 jit 装饰器（just-in-time 编译器）；\n",
        "\n",
        "它可以用来**加速数值计算中的 Python函数**，使其像C一样高效；\n",
        "\n",
        "适用于大量循环、数组操作等CPU密集型运算。"
      ]
    },
    {
      "cell_type": "code",
      "execution_count": 2,
      "metadata": {
        "colab": {
          "base_uri": "https://localhost:8080/"
        },
        "id": "iTPC0twnsGpc",
        "outputId": "bcf861d5-5098-402a-da77-51e3195aa61f"
      },
      "outputs": [
        {
          "name": "stdout",
          "output_type": "stream",
          "text": [
            "CPU times: user 236 ms, sys: 83.2 ms, total: 319 ms\n",
            "Wall time: 1.22 s\n"
          ]
        },
        {
          "data": {
            "text/plain": [
              "inf"
            ]
          },
          "execution_count": 2,
          "metadata": {},
          "output_type": "execute_result"
        }
      ],
      "source": [
        "from numba import jit\n",
        "\n",
        "# jit compiles when we call the function for the first time\n",
        "# nopython tries to run without involving Python interpreter\n",
        "@jit(nopython=True)\n",
        "def loop_jit(x, r):\n",
        "  for i in range(r):\n",
        "    x *= 2.5\n",
        "  return x\n",
        "\n",
        "%time loop_jit(2, 10**6) # The first time includes compilation time"
      ]
    },
    {
      "cell_type": "code",
      "execution_count": 3,
      "metadata": {
        "colab": {
          "base_uri": "https://localhost:8080/"
        },
        "id": "xUnhxUOnsrt8",
        "outputId": "60895ce5-4e98-4668-d425-637e36a2f897"
      },
      "outputs": [
        {
          "name": "stdout",
          "output_type": "stream",
          "text": [
            "CPU times: user 2 ms, sys: 122 µs, total: 2.12 ms\n",
            "Wall time: 2.33 ms\n"
          ]
        },
        {
          "data": {
            "text/plain": [
              "inf"
            ]
          },
          "execution_count": 3,
          "metadata": {},
          "output_type": "execute_result"
        }
      ],
      "source": [
        "%time loop_jit(2, 10**6) # much faster after compilation"
      ]
    },
    {
      "cell_type": "code",
      "execution_count": 3,
      "metadata": {},
      "outputs": [
        {
          "name": "stdout",
          "output_type": "stream",
          "text": [
            "2.07 ms ± 20 µs per loop (mean ± std. dev. of 7 runs, 100 loops each)\n"
          ]
        }
      ],
      "source": [
        "%timeit loop_jit(2, 10**6) # %timeit runs the code multiple times and gives the average time"
      ]
    },
    {
      "cell_type": "code",
      "execution_count": 4,
      "metadata": {
        "colab": {
          "base_uri": "https://localhost:8080/"
        },
        "id": "eXibv5les8UY",
        "outputId": "081fa55a-2feb-408a-b27e-734d6aa26c61"
      },
      "outputs": [
        {
          "name": "stdout",
          "output_type": "stream",
          "text": [
            "30.2 ms ± 470 µs per loop (mean ± std. dev. of 7 runs, 10 loops each)\n"
          ]
        }
      ],
      "source": [
        "%timeit loop(3, 10**6) # better to time across multiple runs using `timeit`"
      ]
    },
    {
      "cell_type": "code",
      "execution_count": null,
      "metadata": {
        "colab": {
          "base_uri": "https://localhost:8080/"
        },
        "id": "uWgsB-Y1tKrR",
        "outputId": "1c421b76-cba6-4f52-adee-7dc9c48ec51e"
      },
      "outputs": [
        {
          "name": "stdout",
          "output_type": "stream",
          "text": [
            "1.67 ms ± 83.4 µs per loop (mean ± std. dev. of 7 runs, 1000 loops each)\n"
          ]
        }
      ],
      "source": [
        "%timeit loop_jit(3, 10**6)"
      ]
    },
    {
      "cell_type": "markdown",
      "metadata": {
        "id": "NTCtAE38vffd"
      },
      "source": [
        "We might want to **compile our code ahead of time**, though, so that we can see a speed-up the first time we use it. `numba` allows us to compile ahead of time like so:\n"
      ]
    },
    {
      "cell_type": "markdown",
      "metadata": {},
      "source": [
        "CC的作用是将一个函数 loop_aot 预先编译成一个二进制模块（.so 或 .dll 文件），而不是在运行时即时（JIT）编译。"
      ]
    },
    {
      "cell_type": "code",
      "execution_count": 4,
      "metadata": {
        "id": "EZiha2zLtN3n"
      },
      "outputs": [
        {
          "name": "stderr",
          "output_type": "stream",
          "text": [
            "ld: warning: duplicate -rpath '/opt/anaconda3/lib' ignored\n",
            "ld: warning: object file (/private/var/folders/4g/6_8lhyp147394q93651p5kyw0000gn/T/pycc-build-test_aot-5yvrz4zs/test_aot.cpython-312-darwin.o) was built for newer 'macOS' version (15.0) than being linked (11.0)\n"
          ]
        }
      ],
      "source": [
        "from numba.pycc import CC\n",
        "\n",
        "# name of compiled module to create:\n",
        "cc = CC('test_aot')\n",
        "# 创建一个编译上下文，模块名称为 test_aot；\n",
        "# 最终会生成一个名为 test_aot.so（Linux/macOS）或 test_aot.pyd（Windows）的共享库文件\n",
        "\n",
        "\n",
        "# name of function in module, with explicit data types required (4byte=32bit ints and floats)\n",
        "@cc.export('loop_aot', 'f4(f4,i4)')\n",
        "def loop_aot(x, r):\n",
        "    for i in range(r):\n",
        "        x *= 2.5\n",
        "    return x\n",
        "\n",
        "cc.compile()"
      ]
    },
    {
      "cell_type": "markdown",
      "metadata": {},
      "source": [
        "####  一、签名字符串 `'f4(f4, i4)'` 含义：\n",
        "\n",
        "Numba 的 `@cc.export('func_name', 'signature')` 中，**函数签名（signature）格式如下**：\n",
        "\n",
        "\\[\n",
        "\\texttt{'<返回值类型>(<参数1类型>, <参数2类型>, ...)'}\n",
        "\\]\n",
        "\n",
        "所以：\n",
        "\n",
        "```python\n",
        "@cc.export('loop_aot', 'f4(f4,i4)')\n",
        "```\n",
        "\n",
        "表示：\n",
        "\n",
        "- `loop_aot` 是导出的函数名；\n",
        "- `'f4(f4,i4)'` 的含义是：\n",
        "  - `f4`：表示函数的**返回值类型是 float32**；\n",
        "  - `(f4, i4)`：表示函数的**参数分别是 float32 和 int32**。\n",
        "\n",
        "---\n",
        "\n",
        "#### 二、常见类型缩写对照表：\n",
        "\n",
        "| 缩写 | 类型        | 对应 Python 类型         |\n",
        "|------|-------------|--------------------------|\n",
        "| `i4` | int32       | `numpy.int32` / `int`    |\n",
        "| `i8` | int64       | `numpy.int64` / `int`    |\n",
        "| `f4` | float32     | `numpy.float32` / `float`|\n",
        "| `f8` | float64     | `numpy.float64` / `float`|\n",
        "| `b1` | boolean     | `bool`                   |\n",
        "| `void` | 无返回值 | `None`                   |\n",
        "\n",
        "---\n",
        "\n",
        "#### 三、可以导出多个函数吗？\n",
        "\n",
        "**当然可以！你可以用多个 `@cc.export` 来导出多个函数。**\n",
        "\n",
        "例如：\n",
        "\n",
        "```python\n",
        "@cc.export('loop_aot', 'f4(f4,i4)')\n",
        "def loop_aot(x, r):\n",
        "    for i in range(r):\n",
        "        x *= 2.5\n",
        "    return x\n",
        "\n",
        "@cc.export('square_add', 'f8(f8, f8)')\n",
        "def square_add(a, b):\n",
        "    return a**2 + b**2\n",
        "```\n",
        "\n",
        "然后编译：\n",
        "\n",
        "```python\n",
        "cc.compile()\n",
        "```\n",
        "\n",
        "就会在模块中同时生成 `loop_aot` 和 `square_add` 两个函数，可以在 Python 中这样使用：\n",
        "\n",
        "```python\n",
        "import test_aot\n",
        "\n",
        "print(test_aot.loop_aot(1.0, 3))      # 输出：1.0 * 2.5^3\n",
        "print(test_aot.square_add(3.0, 4.0))  # 输出：3² + 4² = 25.0\n",
        "```\n",
        "\n",
        "---\n",
        "\n",
        "#### 四、如何写更复杂的类型？\n",
        "\n",
        "Numba 也支持：\n",
        "\n",
        "- 向量、数组参数（比如 `'void(f8[:])'` 表示传入一个 1D float64 数组）\n",
        "- 多维数组、结构体、tuple（更复杂）\n",
        "\n",
        "如果你想加速处理 `numpy` 向量数据，可以写：\n",
        "\n",
        "```python\n",
        "@cc.export('scale_array', 'void(f4[:], f4)')\n",
        "def scale_array(arr, a):\n",
        "    for i in range(len(arr)):\n",
        "        arr[i] *= a\n",
        "```\n",
        "\n",
        "---\n",
        "\n"
      ]
    },
    {
      "cell_type": "markdown",
      "metadata": {},
      "source": [
        "#### 1. **@cc.export 必须紧贴函数定义前一行写**\n",
        "\n",
        "`@cc.export(...)` 是一个 **装饰器（decorator）**，必须**紧跟它所要装饰的函数定义**，否则 Python 解释器无法把它和对应函数关联起来。\n",
        "\n",
        "```python\n",
        "@cc.export('loop_aot', 'f4(f4,i4)')\n",
        "def loop_aot(x, r):\n",
        "    ...\n",
        "```\n",
        "错误示例（中间插入其他代码）：\n",
        "\n",
        "```python\n",
        "@cc.export('loop_aot', 'f4(f4,i4)')\n",
        "print(\"hello\")  # 错误：装饰器失效\n",
        "def loop_aot(x, r):\n",
        "    ...\n",
        "```\n",
        "---\n",
        "\n",
        "####  2. **可以为同一个函数写多个 `@cc.export(...)` **\n",
        "\n",
        "可以对**同一个函数定义导出多个不同签名（overload）**，只要你的函数能接受这些类型并正确工作。\n",
        "\n",
        "```python\n",
        "@cc.export('loop_aot', 'f4(f4,i4)')\n",
        "@cc.export('loop_aot', 'f8(f8,i4)')  # 支持 float64 输入\n",
        "def loop_aot(x, r):\n",
        "    for i in range(r):\n",
        "        x *= 2.5\n",
        "    return x\n",
        "```\n",
        "\n",
        "这里的两个 `@cc.export` 都作用在 **同一个函数 `loop_aot` 上**，最终在模块中导出一个 `loop_aot`，支持两种类型输入：`float32` 和 `float64`。\n",
        "\n",
        "你不能这样写：\n",
        "\n",
        "```python\n",
        "@cc.export('loop_aot', 'f4(f4,i4)')\n",
        "@cc.export('another_name', 'f8(f8,i4)')\n",
        "def loop_aot(x, r):\n",
        "    ...\n",
        "```\n",
        "\n",
        "因为你不能用两个 export 给**不同名字**，但只写一个函数定义。要想给不同名字写 export，必须写不同函数名。\n",
        "\n",
        "---\n"
      ]
    },
    {
      "cell_type": "markdown",
      "metadata": {
        "id": "vAIwPxFhu_W2"
      },
      "source": [
        "Note that we now have a compiled object file (.so) in our current directory. This is a compiled module that contains our function."
      ]
    },
    {
      "cell_type": "code",
      "execution_count": 5,
      "metadata": {
        "colab": {
          "base_uri": "https://localhost:8080/"
        },
        "id": "sPvmIS5wtWGE",
        "outputId": "bccc5026-0310-4b19-8ef5-1269a457bc28"
      },
      "outputs": [
        {
          "name": "stdout",
          "output_type": "stream",
          "text": [
            "1M_python_compilation.ipynb     \u001b[31mtest_aot.cpython-312-darwin.so\u001b[m\u001b[m*\n"
          ]
        }
      ],
      "source": [
        "ls"
      ]
    },
    {
      "cell_type": "markdown",
      "metadata": {
        "id": "GtNEHRzvvVb6"
      },
      "source": [
        "To use our function, we just need to import our pre-compiled module, as we would any other Python module:"
      ]
    },
    {
      "cell_type": "code",
      "execution_count": 6,
      "metadata": {
        "colab": {
          "base_uri": "https://localhost:8080/"
        },
        "id": "6dPwBf_ytXbg",
        "outputId": "5a1f2e61-a5b7-4e2a-cd27-c2d397ec769b"
      },
      "outputs": [
        {
          "name": "stdout",
          "output_type": "stream",
          "text": [
            "CPU times: user 2.04 ms, sys: 8 µs, total: 2.05 ms\n",
            "Wall time: 2.05 ms\n"
          ]
        },
        {
          "data": {
            "text/plain": [
              "inf"
            ]
          },
          "execution_count": 6,
          "metadata": {},
          "output_type": "execute_result"
        }
      ],
      "source": [
        "import test_aot\n",
        "%time test_aot.loop_aot(2, 10**6) # first time running it is fast this time"
      ]
    },
    {
      "cell_type": "code",
      "execution_count": 7,
      "metadata": {
        "colab": {
          "base_uri": "https://localhost:8080/"
        },
        "id": "sf5zuvi2tdHv",
        "outputId": "61f5141d-18bf-46fe-c511-4f13c3d07e75"
      },
      "outputs": [
        {
          "name": "stdout",
          "output_type": "stream",
          "text": [
            "2.05 ms ± 5.09 µs per loop (mean ± std. dev. of 7 runs, 100 loops each)\n"
          ]
        }
      ],
      "source": [
        "%timeit test_aot.loop_aot(2, 10**6) # same overall performance as before"
      ]
    },
    {
      "cell_type": "markdown",
      "metadata": {
        "id": "eo0Sp3F4uQpI"
      },
      "source": [
        "## Using `cython`\n",
        "\n",
        "Another common way to compile Python code (albeit slightly uglier) is to compile our function via explicit `cython` static typing, like so (here, using the IPython `cython` extension to compile):"
      ]
    },
    {
      "cell_type": "code",
      "execution_count": 8,
      "metadata": {
        "id": "pPYSIMqjtdnk"
      },
      "outputs": [],
      "source": [
        "%load_ext cython"
      ]
    },
    {
      "cell_type": "code",
      "execution_count": 10,
      "metadata": {},
      "outputs": [
        {
          "name": "stdout",
          "output_type": "stream",
          "text": [
            "'cython' 已安装\n"
          ]
        }
      ],
      "source": [
        "import pkg_resources\n",
        "\n",
        "package_name = \"cython\"\n",
        "\n",
        "installed_packages = [pkg.key for pkg in pkg_resources.working_set]\n",
        "\n",
        "if package_name in installed_packages:\n",
        "    print(f\"'{package_name}' 已安装\")\n",
        "else:\n",
        "    print(f\"'{package_name}' 未安装\")\n"
      ]
    },
    {
      "cell_type": "code",
      "execution_count": 12,
      "metadata": {},
      "outputs": [
        {
          "name": "stdout",
          "output_type": "stream",
          "text": [
            "\u001b[33mDEPRECATION: Loading egg at /opt/anaconda3/lib/python3.12/site-packages/matlabengine-24.2-py3.12.egg is deprecated. pip 24.3 will enforce this behaviour change. A possible replacement is to use pip for package installation.. Discussion can be found at https://github.com/pypa/pip/issues/12330\u001b[0m\u001b[33m\n",
            "\u001b[0m\u001b[33mDEPRECATION: Loading egg at /opt/anaconda3/lib/python3.12/site-packages/matlab_kernel-0.17.1-py3.12.egg is deprecated. pip 24.3 will enforce this behaviour change. A possible replacement is to use pip for package installation.. Discussion can be found at https://github.com/pypa/pip/issues/12330\u001b[0m\u001b[33m\n",
            "\u001b[0mRequirement already satisfied: cython in /opt/anaconda3/lib/python3.12/site-packages (3.0.12)\n",
            "\u001b[33mDEPRECATION: Loading egg at /opt/anaconda3/lib/python3.12/site-packages/matlabengine-24.2-py3.12.egg is deprecated. pip 24.3 will enforce this behaviour change. A possible replacement is to use pip for package installation.. Discussion can be found at https://github.com/pypa/pip/issues/12330\u001b[0m\u001b[33m\n",
            "\u001b[0m\u001b[33mDEPRECATION: Loading egg at /opt/anaconda3/lib/python3.12/site-packages/matlab_kernel-0.17.1-py3.12.egg is deprecated. pip 24.3 will enforce this behaviour change. A possible replacement is to use pip for package installation.. Discussion can be found at https://github.com/pypa/pip/issues/12330\u001b[0m\u001b[33m\n",
            "\u001b[0mRequirement already satisfied: ipython in /opt/anaconda3/lib/python3.12/site-packages (8.12.3)\n",
            "Requirement already satisfied: backcall in /opt/anaconda3/lib/python3.12/site-packages (from ipython) (0.2.0)\n",
            "Requirement already satisfied: decorator in /opt/anaconda3/lib/python3.12/site-packages (from ipython) (5.1.1)\n",
            "Requirement already satisfied: jedi>=0.16 in /opt/anaconda3/lib/python3.12/site-packages (from ipython) (0.18.1)\n",
            "Requirement already satisfied: matplotlib-inline in /opt/anaconda3/lib/python3.12/site-packages (from ipython) (0.1.6)\n",
            "Requirement already satisfied: pickleshare in /opt/anaconda3/lib/python3.12/site-packages (from ipython) (0.7.5)\n",
            "Requirement already satisfied: prompt-toolkit!=3.0.37,<3.1.0,>=3.0.30 in /opt/anaconda3/lib/python3.12/site-packages (from ipython) (3.0.43)\n",
            "Requirement already satisfied: pygments>=2.4.0 in /opt/anaconda3/lib/python3.12/site-packages (from ipython) (2.15.1)\n",
            "Requirement already satisfied: stack-data in /opt/anaconda3/lib/python3.12/site-packages (from ipython) (0.2.0)\n",
            "Requirement already satisfied: traitlets>=5 in /opt/anaconda3/lib/python3.12/site-packages (from ipython) (5.14.3)\n",
            "Requirement already satisfied: pexpect>4.3 in /opt/anaconda3/lib/python3.12/site-packages (from ipython) (4.8.0)\n",
            "Requirement already satisfied: appnope in /opt/anaconda3/lib/python3.12/site-packages (from ipython) (0.1.3)\n",
            "Requirement already satisfied: parso<0.9.0,>=0.8.0 in /opt/anaconda3/lib/python3.12/site-packages (from jedi>=0.16->ipython) (0.8.3)\n",
            "Requirement already satisfied: ptyprocess>=0.5 in /opt/anaconda3/lib/python3.12/site-packages (from pexpect>4.3->ipython) (0.7.0)\n",
            "Requirement already satisfied: wcwidth in /opt/anaconda3/lib/python3.12/site-packages (from prompt-toolkit!=3.0.37,<3.1.0,>=3.0.30->ipython) (0.2.5)\n",
            "Requirement already satisfied: executing in /opt/anaconda3/lib/python3.12/site-packages (from stack-data->ipython) (0.8.3)\n",
            "Requirement already satisfied: asttokens in /opt/anaconda3/lib/python3.12/site-packages (from stack-data->ipython) (2.0.5)\n",
            "Requirement already satisfied: pure-eval in /opt/anaconda3/lib/python3.12/site-packages (from stack-data->ipython) (0.2.2)\n",
            "Requirement already satisfied: six in /opt/anaconda3/lib/python3.12/site-packages (from asttokens->stack-data->ipython) (1.16.0)\n",
            "\u001b[33mDEPRECATION: Loading egg at /opt/anaconda3/lib/python3.12/site-packages/matlabengine-24.2-py3.12.egg is deprecated. pip 24.3 will enforce this behaviour change. A possible replacement is to use pip for package installation.. Discussion can be found at https://github.com/pypa/pip/issues/12330\u001b[0m\u001b[33m\n",
            "\u001b[0m\u001b[33mDEPRECATION: Loading egg at /opt/anaconda3/lib/python3.12/site-packages/matlab_kernel-0.17.1-py3.12.egg is deprecated. pip 24.3 will enforce this behaviour change. A possible replacement is to use pip for package installation.. Discussion can be found at https://github.com/pypa/pip/issues/12330\u001b[0m\u001b[33m\n",
            "\u001b[0m\u001b[31mERROR: Could not find a version that satisfies the requirement ipycython (from versions: none)\u001b[0m\u001b[31m\n",
            "\u001b[0m\u001b[31mERROR: No matching distribution found for ipycython\u001b[0m\u001b[31m\n",
            "\u001b[0m"
          ]
        }
      ],
      "source": [
        "!pip install cython\n",
        "!pip install ipython\n",
        "!pip install ipycython\n"
      ]
    },
    {
      "cell_type": "code",
      "execution_count": 13,
      "metadata": {},
      "outputs": [
        {
          "name": "stdout",
          "output_type": "stream",
          "text": [
            "\u001b[33mDEPRECATION: Loading egg at /opt/anaconda3/lib/python3.12/site-packages/matlabengine-24.2-py3.12.egg is deprecated. pip 24.3 will enforce this behaviour change. A possible replacement is to use pip for package installation.. Discussion can be found at https://github.com/pypa/pip/issues/12330\u001b[0m\u001b[33m\n",
            "\u001b[0m\u001b[33mDEPRECATION: Loading egg at /opt/anaconda3/lib/python3.12/site-packages/matlab_kernel-0.17.1-py3.12.egg is deprecated. pip 24.3 will enforce this behaviour change. A possible replacement is to use pip for package installation.. Discussion can be found at https://github.com/pypa/pip/issues/12330\u001b[0m\u001b[33m\n",
            "\u001b[0mRequirement already satisfied: Cython in /opt/anaconda3/lib/python3.12/site-packages (3.0.12)\n",
            "\u001b[33mDEPRECATION: Loading egg at /opt/anaconda3/lib/python3.12/site-packages/matlabengine-24.2-py3.12.egg is deprecated. pip 24.3 will enforce this behaviour change. A possible replacement is to use pip for package installation.. Discussion can be found at https://github.com/pypa/pip/issues/12330\u001b[0m\u001b[33m\n",
            "\u001b[0m\u001b[33mDEPRECATION: Loading egg at /opt/anaconda3/lib/python3.12/site-packages/matlab_kernel-0.17.1-py3.12.egg is deprecated. pip 24.3 will enforce this behaviour change. A possible replacement is to use pip for package installation.. Discussion can be found at https://github.com/pypa/pip/issues/12330\u001b[0m\u001b[33m\n",
            "\u001b[0mRequirement already satisfied: ipython in /opt/anaconda3/lib/python3.12/site-packages (8.12.3)\n",
            "Requirement already satisfied: backcall in /opt/anaconda3/lib/python3.12/site-packages (from ipython) (0.2.0)\n",
            "Requirement already satisfied: decorator in /opt/anaconda3/lib/python3.12/site-packages (from ipython) (5.1.1)\n",
            "Requirement already satisfied: jedi>=0.16 in /opt/anaconda3/lib/python3.12/site-packages (from ipython) (0.18.1)\n",
            "Requirement already satisfied: matplotlib-inline in /opt/anaconda3/lib/python3.12/site-packages (from ipython) (0.1.6)\n",
            "Requirement already satisfied: pickleshare in /opt/anaconda3/lib/python3.12/site-packages (from ipython) (0.7.5)\n",
            "Requirement already satisfied: prompt-toolkit!=3.0.37,<3.1.0,>=3.0.30 in /opt/anaconda3/lib/python3.12/site-packages (from ipython) (3.0.43)\n",
            "Requirement already satisfied: pygments>=2.4.0 in /opt/anaconda3/lib/python3.12/site-packages (from ipython) (2.15.1)\n",
            "Requirement already satisfied: stack-data in /opt/anaconda3/lib/python3.12/site-packages (from ipython) (0.2.0)\n",
            "Requirement already satisfied: traitlets>=5 in /opt/anaconda3/lib/python3.12/site-packages (from ipython) (5.14.3)\n",
            "Requirement already satisfied: pexpect>4.3 in /opt/anaconda3/lib/python3.12/site-packages (from ipython) (4.8.0)\n",
            "Requirement already satisfied: appnope in /opt/anaconda3/lib/python3.12/site-packages (from ipython) (0.1.3)\n",
            "Requirement already satisfied: parso<0.9.0,>=0.8.0 in /opt/anaconda3/lib/python3.12/site-packages (from jedi>=0.16->ipython) (0.8.3)\n",
            "Requirement already satisfied: ptyprocess>=0.5 in /opt/anaconda3/lib/python3.12/site-packages (from pexpect>4.3->ipython) (0.7.0)\n",
            "Requirement already satisfied: wcwidth in /opt/anaconda3/lib/python3.12/site-packages (from prompt-toolkit!=3.0.37,<3.1.0,>=3.0.30->ipython) (0.2.5)\n",
            "Requirement already satisfied: executing in /opt/anaconda3/lib/python3.12/site-packages (from stack-data->ipython) (0.8.3)\n",
            "Requirement already satisfied: asttokens in /opt/anaconda3/lib/python3.12/site-packages (from stack-data->ipython) (2.0.5)\n",
            "Requirement already satisfied: pure-eval in /opt/anaconda3/lib/python3.12/site-packages (from stack-data->ipython) (0.2.2)\n",
            "Requirement already satisfied: six in /opt/anaconda3/lib/python3.12/site-packages (from asttokens->stack-data->ipython) (1.16.0)\n"
          ]
        }
      ],
      "source": [
        "!pip install Cython\n",
        "!pip install ipython\n"
      ]
    },
    {
      "cell_type": "code",
      "execution_count": 21,
      "metadata": {},
      "outputs": [
        {
          "name": "stdout",
          "output_type": "stream",
          "text": [
            "The Cython extension is already loaded. To reload it, use:\n",
            "  %reload_ext Cython\n"
          ]
        }
      ],
      "source": [
        "%load_ext Cython\n"
      ]
    },
    {
      "cell_type": "code",
      "execution_count": 20,
      "metadata": {},
      "outputs": [
        {
          "data": {
            "application/json": {
              "cell": {
                "!": "OSMagics",
                "HTML": "Other",
                "SVG": "Other",
                "bash": "Other",
                "capture": "ExecutionMagics",
                "cython": "CythonMagics",
                "cython_inline": "CythonMagics",
                "cython_pyximport": "CythonMagics",
                "debug": "ExecutionMagics",
                "file": "Other",
                "html": "DisplayMagics",
                "javascript": "DisplayMagics",
                "js": "DisplayMagics",
                "latex": "DisplayMagics",
                "markdown": "DisplayMagics",
                "perl": "Other",
                "prun": "ExecutionMagics",
                "pypy": "Other",
                "python": "Other",
                "python2": "Other",
                "python3": "Other",
                "ruby": "Other",
                "script": "ScriptMagics",
                "sh": "Other",
                "svg": "DisplayMagics",
                "sx": "OSMagics",
                "system": "OSMagics",
                "time": "ExecutionMagics",
                "timeit": "ExecutionMagics",
                "writefile": "OSMagics"
              },
              "line": {
                "alias": "OSMagics",
                "alias_magic": "BasicMagics",
                "autoawait": "AsyncMagics",
                "autocall": "AutoMagics",
                "automagic": "AutoMagics",
                "autosave": "KernelMagics",
                "bookmark": "OSMagics",
                "cat": "Other",
                "cd": "OSMagics",
                "clear": "KernelMagics",
                "colors": "BasicMagics",
                "conda": "PackagingMagics",
                "config": "ConfigMagics",
                "connect_info": "KernelMagics",
                "cp": "Other",
                "debug": "ExecutionMagics",
                "dhist": "OSMagics",
                "dirs": "OSMagics",
                "doctest_mode": "BasicMagics",
                "ed": "Other",
                "edit": "KernelMagics",
                "env": "OSMagics",
                "gui": "BasicMagics",
                "hist": "Other",
                "history": "HistoryMagics",
                "killbgscripts": "ScriptMagics",
                "ldir": "Other",
                "less": "KernelMagics",
                "lf": "Other",
                "lk": "Other",
                "ll": "Other",
                "load": "CodeMagics",
                "load_ext": "ExtensionMagics",
                "loadpy": "CodeMagics",
                "logoff": "LoggingMagics",
                "logon": "LoggingMagics",
                "logstart": "LoggingMagics",
                "logstate": "LoggingMagics",
                "logstop": "LoggingMagics",
                "ls": "Other",
                "lsmagic": "BasicMagics",
                "lx": "Other",
                "macro": "ExecutionMagics",
                "magic": "BasicMagics",
                "man": "KernelMagics",
                "matplotlib": "PylabMagics",
                "mkdir": "Other",
                "more": "KernelMagics",
                "mv": "Other",
                "notebook": "BasicMagics",
                "page": "BasicMagics",
                "pastebin": "CodeMagics",
                "pdb": "ExecutionMagics",
                "pdef": "NamespaceMagics",
                "pdoc": "NamespaceMagics",
                "pfile": "NamespaceMagics",
                "pinfo": "NamespaceMagics",
                "pinfo2": "NamespaceMagics",
                "pip": "PackagingMagics",
                "popd": "OSMagics",
                "pprint": "BasicMagics",
                "precision": "BasicMagics",
                "prun": "ExecutionMagics",
                "psearch": "NamespaceMagics",
                "psource": "NamespaceMagics",
                "pushd": "OSMagics",
                "pwd": "OSMagics",
                "pycat": "OSMagics",
                "pylab": "PylabMagics",
                "qtconsole": "KernelMagics",
                "quickref": "BasicMagics",
                "recall": "HistoryMagics",
                "rehashx": "OSMagics",
                "reload_ext": "ExtensionMagics",
                "rep": "Other",
                "rerun": "HistoryMagics",
                "reset": "NamespaceMagics",
                "reset_selective": "NamespaceMagics",
                "rm": "Other",
                "rmdir": "Other",
                "run": "ExecutionMagics",
                "save": "CodeMagics",
                "sc": "OSMagics",
                "set_env": "OSMagics",
                "store": "StoreMagics",
                "sx": "OSMagics",
                "system": "OSMagics",
                "tb": "ExecutionMagics",
                "time": "ExecutionMagics",
                "timeit": "ExecutionMagics",
                "unalias": "OSMagics",
                "unload_ext": "ExtensionMagics",
                "who": "NamespaceMagics",
                "who_ls": "NamespaceMagics",
                "whos": "NamespaceMagics",
                "xdel": "NamespaceMagics",
                "xmode": "BasicMagics"
              }
            },
            "text/plain": [
              "Available line magics:\n",
              "%alias  %alias_magic  %autoawait  %autocall  %automagic  %autosave  %bookmark  %cat  %cd  %clear  %colors  %conda  %config  %connect_info  %cp  %debug  %dhist  %dirs  %doctest_mode  %ed  %edit  %env  %gui  %hist  %history  %killbgscripts  %ldir  %less  %lf  %lk  %ll  %load  %load_ext  %loadpy  %logoff  %logon  %logstart  %logstate  %logstop  %ls  %lsmagic  %lx  %macro  %magic  %man  %matplotlib  %mkdir  %more  %mv  %notebook  %page  %pastebin  %pdb  %pdef  %pdoc  %pfile  %pinfo  %pinfo2  %pip  %popd  %pprint  %precision  %prun  %psearch  %psource  %pushd  %pwd  %pycat  %pylab  %qtconsole  %quickref  %recall  %rehashx  %reload_ext  %rep  %rerun  %reset  %reset_selective  %rm  %rmdir  %run  %save  %sc  %set_env  %store  %sx  %system  %tb  %time  %timeit  %unalias  %unload_ext  %who  %who_ls  %whos  %xdel  %xmode\n",
              "\n",
              "Available cell magics:\n",
              "%%!  %%HTML  %%SVG  %%bash  %%capture  %%cython  %%cython_inline  %%cython_pyximport  %%debug  %%file  %%html  %%javascript  %%js  %%latex  %%markdown  %%perl  %%prun  %%pypy  %%python  %%python2  %%python3  %%ruby  %%script  %%sh  %%svg  %%sx  %%system  %%time  %%timeit  %%writefile\n",
              "\n",
              "Automagic is ON, % prefix IS NOT needed for line magics."
            ]
          },
          "execution_count": 20,
          "metadata": {},
          "output_type": "execute_result"
        }
      ],
      "source": [
        "%lsmagic\n"
      ]
    },
    {
      "cell_type": "code",
      "execution_count": 29,
      "metadata": {
        "id": "sil1uDsgtzJW"
      },
      "outputs": [
        {
          "ename": "SyntaxError",
          "evalue": "invalid syntax (1063832235.py, line 5)",
          "output_type": "error",
          "traceback": [
            "\u001b[0;36m  Cell \u001b[0;32mIn[29], line 5\u001b[0;36m\u001b[0m\n\u001b[0;31m    def loop_cython(float x, int r):\u001b[0m\n\u001b[0m                          ^\u001b[0m\n\u001b[0;31mSyntaxError\u001b[0m\u001b[0;31m:\u001b[0m invalid syntax\n"
          ]
        }
      ],
      "source": [
        "# will automatically convert Python -> C -> Compiled machine code\n",
        "%%cython\n",
        "\n",
        "# explicitly add static types to function itself:\n",
        "def loop_cython(float x, int r):\n",
        "    cdef int i\n",
        "    for i in range(r):\n",
        "        x *= 2.5\n",
        "    return x"
      ]
    },
    {
      "cell_type": "code",
      "execution_count": null,
      "metadata": {
        "colab": {
          "base_uri": "https://localhost:8080/"
        },
        "id": "JnDHKnJqt57y",
        "outputId": "44a00501-0133-4b6b-ec8c-09eee551f6af"
      },
      "outputs": [
        {
          "name": "stdout",
          "output_type": "stream",
          "text": [
            "1.54 ms ± 25.7 µs per loop (mean ± std. dev. of 7 runs, 1000 loops each)\n"
          ]
        }
      ],
      "source": [
        "%timeit loop_cython(2, 10**6) # comparable performance to numba"
      ]
    }
  ],
  "metadata": {
    "colab": {
      "provenance": []
    },
    "kernelspec": {
      "display_name": "base",
      "language": "python",
      "name": "python3"
    },
    "language_info": {
      "codemirror_mode": {
        "name": "ipython",
        "version": 3
      },
      "file_extension": ".py",
      "mimetype": "text/x-python",
      "name": "python",
      "nbconvert_exporter": "python",
      "pygments_lexer": "ipython3",
      "version": "3.12.2"
    }
  },
  "nbformat": 4,
  "nbformat_minor": 0
}

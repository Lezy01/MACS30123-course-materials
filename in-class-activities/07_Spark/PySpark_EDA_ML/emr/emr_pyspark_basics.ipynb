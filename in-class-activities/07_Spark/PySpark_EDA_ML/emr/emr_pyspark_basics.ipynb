{
 "cells": [
  {
   "cell_type": "markdown",
   "metadata": {},
   "source": [
    "## Introduction to PySpark on an EMR Cluster\n",
    "\n",
    "[This notebook is meant to be run on an AWS EMR Cluster with Spark installed; follow the instructions in `emr_cheatsheet.md` to set up such a cluster]\n",
    "\n",
    "Let's first take a look at the Spark version that we have available within our EMR cluster:"
   ]
  },
  {
   "cell_type": "code",
   "execution_count": 1,
   "metadata": {},
   "outputs": [
    {
     "ename": "NameError",
     "evalue": "name 'sc' is not defined",
     "output_type": "error",
     "traceback": [
      "\u001b[0;31m---------------------------------------------------------------------------\u001b[0m",
      "\u001b[0;31mNameError\u001b[0m                                 Traceback (most recent call last)",
      "Cell \u001b[0;32mIn[1], line 1\u001b[0m\n\u001b[0;32m----> 1\u001b[0m \u001b[43msc\u001b[49m\u001b[38;5;241m.\u001b[39mversion\n",
      "\u001b[0;31mNameError\u001b[0m: name 'sc' is not defined"
     ]
    }
   ],
   "source": [
    "sc.version"
   ]
  },
  {
   "cell_type": "markdown",
   "metadata": {},
   "source": [
    "Suppose we have a standard Python list:"
   ]
  },
  {
   "cell_type": "code",
   "execution_count": null,
   "metadata": {},
   "outputs": [
    {
     "data": {
      "application/vnd.jupyter.widget-view+json": {
       "model_id": "",
       "version_major": 2,
       "version_minor": 0
      },
      "text/plain": [
       "FloatProgress(value=0.0, bar_style='info', description='Progress:', layout=Layout(height='25px', width='50%'),…"
      ]
     },
     "metadata": {},
     "output_type": "display_data"
    }
   ],
   "source": [
    "lst = [i for i in range(100)]"
   ]
  },
  {
   "cell_type": "markdown",
   "metadata": {},
   "source": [
    "Let's create an RDD from this list (with as many partitions as we have nodes by default) to demonstrate some basic PySpark operations:"
   ]
  },
  {
   "cell_type": "code",
   "execution_count": null,
   "metadata": {},
   "outputs": [
    {
     "data": {
      "application/vnd.jupyter.widget-view+json": {
       "model_id": "",
       "version_major": 2,
       "version_minor": 0
      },
      "text/plain": [
       "FloatProgress(value=0.0, bar_style='info', description='Progress:', layout=Layout(height='25px', width='50%'),…"
      ]
     },
     "metadata": {},
     "output_type": "display_data"
    }
   ],
   "source": [
    "lst_p = sc.parallelize(lst)"
   ]
  },
  {
   "cell_type": "code",
   "execution_count": null,
   "metadata": {},
   "outputs": [
    {
     "data": {
      "application/vnd.jupyter.widget-view+json": {
       "model_id": "",
       "version_major": 2,
       "version_minor": 0
      },
      "text/plain": [
       "FloatProgress(value=0.0, bar_style='info', description='Progress:', layout=Layout(height='25px', width='50%'),…"
      ]
     },
     "metadata": {},
     "output_type": "display_data"
    },
    {
     "name": "stdout",
     "output_type": "stream",
     "text": [
      "4"
     ]
    }
   ],
   "source": [
    "lst_p.getNumPartitions()"
   ]
  },
  {
   "cell_type": "code",
   "execution_count": null,
   "metadata": {},
   "outputs": [
    {
     "data": {
      "application/vnd.jupyter.widget-view+json": {
       "model_id": "",
       "version_major": 2,
       "version_minor": 0
      },
      "text/plain": [
       "FloatProgress(value=0.0, bar_style='info', description='Progress:', layout=Layout(height='25px', width='50%'),…"
      ]
     },
     "metadata": {},
     "output_type": "display_data"
    },
    {
     "name": "stdout",
     "output_type": "stream",
     "text": [
      "ParallelCollectionRDD[0] at readRDDFromFile at PythonRDD.scala:262"
     ]
    }
   ],
   "source": [
    "lst_p"
   ]
  },
  {
   "cell_type": "markdown",
   "metadata": {},
   "source": [
    "Once we have an RDD, we can perform \"transformations\" on it (such as `map` and `filter`):"
   ]
  },
  {
   "cell_type": "code",
   "execution_count": null,
   "id": "3a627118",
   "metadata": {},
   "outputs": [
    {
     "data": {
      "application/vnd.jupyter.widget-view+json": {
       "model_id": "",
       "version_major": 2,
       "version_minor": 0
      },
      "text/plain": [
       "FloatProgress(value=0.0, bar_style='info', description='Progress:', layout=Layout(height='25px', width='50%'),…"
      ]
     },
     "metadata": {},
     "output_type": "display_data"
    },
    {
     "name": "stdout",
     "output_type": "stream",
     "text": [
      "PythonRDD[1] at RDD at PythonRDD.scala:53"
     ]
    }
   ],
   "source": [
    "filtered = lst_p.filter(lambda x: x < 10) # transformation 1\n",
    "filtered"
   ]
  },
  {
   "cell_type": "code",
   "execution_count": null,
   "id": "b8742ccd",
   "metadata": {},
   "outputs": [
    {
     "data": {
      "application/vnd.jupyter.widget-view+json": {
       "model_id": "",
       "version_major": 2,
       "version_minor": 0
      },
      "text/plain": [
       "FloatProgress(value=0.0, bar_style='info', description='Progress:', layout=Layout(height='25px', width='50%'),…"
      ]
     },
     "metadata": {},
     "output_type": "display_data"
    },
    {
     "name": "stdout",
     "output_type": "stream",
     "text": [
      "PythonRDD[2] at RDD at PythonRDD.scala:53"
     ]
    }
   ],
   "source": [
    "mapped = filtered.map(lambda x: x * 10) # transformation 2\n",
    "mapped"
   ]
  },
  {
   "cell_type": "markdown",
   "id": "f0d82ecf",
   "metadata": {},
   "source": [
    "Recall that transformations are not actually performed until we trigger an \"action,\" such as one of the following:"
   ]
  },
  {
   "cell_type": "code",
   "execution_count": null,
   "id": "556e8709",
   "metadata": {},
   "outputs": [
    {
     "data": {
      "application/vnd.jupyter.widget-view+json": {
       "model_id": "",
       "version_major": 2,
       "version_minor": 0
      },
      "text/plain": [
       "FloatProgress(value=0.0, bar_style='info', description='Progress:', layout=Layout(height='25px', width='50%'),…"
      ]
     },
     "metadata": {},
     "output_type": "display_data"
    },
    {
     "name": "stdout",
     "output_type": "stream",
     "text": [
      "450"
     ]
    }
   ],
   "source": [
    "mapped.reduce(lambda a, b: a + b)"
   ]
  },
  {
   "cell_type": "code",
   "execution_count": null,
   "id": "c78c5db5",
   "metadata": {},
   "outputs": [
    {
     "data": {
      "application/vnd.jupyter.widget-view+json": {
       "model_id": "",
       "version_major": 2,
       "version_minor": 0
      },
      "text/plain": [
       "FloatProgress(value=0.0, bar_style='info', description='Progress:', layout=Layout(height='25px', width='50%'),…"
      ]
     },
     "metadata": {},
     "output_type": "display_data"
    },
    {
     "name": "stdout",
     "output_type": "stream",
     "text": [
      "10"
     ]
    }
   ],
   "source": [
    "mapped.count() # also built-in reductions like count and sum"
   ]
  },
  {
   "cell_type": "code",
   "execution_count": null,
   "id": "45058542",
   "metadata": {},
   "outputs": [
    {
     "data": {
      "application/vnd.jupyter.widget-view+json": {
       "model_id": "",
       "version_major": 2,
       "version_minor": 0
      },
      "text/plain": [
       "FloatProgress(value=0.0, bar_style='info', description='Progress:', layout=Layout(height='25px', width='50%'),…"
      ]
     },
     "metadata": {},
     "output_type": "display_data"
    },
    {
     "name": "stdout",
     "output_type": "stream",
     "text": [
      "[0, 10, 20, 30, 40, 50, 60, 70, 80, 90]"
     ]
    }
   ],
   "source": [
    "mapped.collect() # action to bring all data to primary node as list"
   ]
  },
  {
   "cell_type": "code",
   "execution_count": null,
   "id": "6bf9c79a",
   "metadata": {},
   "outputs": [
    {
     "data": {
      "application/vnd.jupyter.widget-view+json": {
       "model_id": "",
       "version_major": 2,
       "version_minor": 0
      },
      "text/plain": [
       "FloatProgress(value=0.0, bar_style='info', description='Progress:', layout=Layout(height='25px', width='50%'),…"
      ]
     },
     "metadata": {},
     "output_type": "display_data"
    },
    {
     "name": "stdout",
     "output_type": "stream",
     "text": [
      "[0, 10, 20]"
     ]
    }
   ],
   "source": [
    "mapped.take(3) # action to bring select number of data points to primary node as list"
   ]
  },
  {
   "cell_type": "markdown",
   "id": "8bcb19c7",
   "metadata": {},
   "source": [
    "If we plan to perform repeated transformations/actions on an RDD, note that we can persist to memory to speed up execution:"
   ]
  },
  {
   "cell_type": "code",
   "execution_count": 13,
   "id": "1c7df7ca",
   "metadata": {},
   "outputs": [
    {
     "data": {
      "application/vnd.jupyter.widget-view+json": {
       "model_id": "",
       "version_major": 2,
       "version_minor": 0
      },
      "text/plain": [
       "FloatProgress(value=0.0, bar_style='info', description='Progress:', layout=Layout(height='25px', width='50%'),…"
      ]
     },
     "metadata": {},
     "output_type": "display_data"
    },
    {
     "name": "stdout",
     "output_type": "stream",
     "text": [
      "True"
     ]
    }
   ],
   "source": [
    "lst_p.persist()\n",
    "\n",
    "# check if it has been persisted/cached\n",
    "lst_p.is_cached"
   ]
  },
  {
   "cell_type": "code",
   "execution_count": 14,
   "id": "b24bae55",
   "metadata": {},
   "outputs": [
    {
     "data": {
      "application/vnd.jupyter.widget-view+json": {
       "model_id": "",
       "version_major": 2,
       "version_minor": 0
      },
      "text/plain": [
       "FloatProgress(value=0.0, bar_style='info', description='Progress:', layout=Layout(height='25px', width='50%'),…"
      ]
     },
     "metadata": {},
     "output_type": "display_data"
    },
    {
     "name": "stdout",
     "output_type": "stream",
     "text": [
      "450"
     ]
    }
   ],
   "source": [
    "lst_p.filter(lambda x: x < 10) \\\n",
    "     .map(lambda x: x * 10) \\\n",
    "     .reduce(lambda a, b: a + b)"
   ]
  },
  {
   "cell_type": "markdown",
   "id": "9424ce94",
   "metadata": {},
   "source": [
    "## A Simple Application\n",
    "\n",
    "Reduction by key after mapping/filtering is particularly common workflow. Let's look at a simple application that performs such a transformation. \n",
    "\n",
    "Assume that we have students and grades for two assignments and we want to return the average grade for each student who earned at least a 90 on an assignment, where student grades were stored in a list of tuples:"
   ]
  },
  {
   "cell_type": "code",
   "execution_count": null,
   "id": "eee4a5f2",
   "metadata": {},
   "outputs": [
    {
     "data": {
      "application/vnd.jupyter.widget-view+json": {
       "model_id": "",
       "version_major": 2,
       "version_minor": 0
      },
      "text/plain": [
       "FloatProgress(value=0.0, bar_style='info', description='Progress:', layout=Layout(height='25px', width='50%'),…"
      ]
     },
     "metadata": {},
     "output_type": "display_data"
    },
    {
     "name": "stdout",
     "output_type": "stream",
     "text": [
      "[('Sue', 93.5)]"
     ]
    }
   ],
   "source": [
    "student_grades = [('John', 90), ('Sue', 95), ('John', 89), ('Sue', 92)]\n",
    "\n",
    "sg_p = sc.parallelize(student_grades) \\\n",
    "         .filter(lambda x: x[1] > 90) \\\n",
    "         .reduceByKey(lambda a, b: (a + b)) \\\n",
    "         .map(lambda x: (x[0], x[1] / 2)) \\\n",
    "         .collect()\n",
    "sg_p"
   ]
  },
  {
   "cell_type": "markdown",
   "id": "1f06d4c4",
   "metadata": {},
   "source": [
    "## Activity 1:\n",
    "\n",
    "Suppose you wanted to parallelize a portion of the Monte Carlo Pi estimation approach we covered earlier in the course using PySpark RDDs and had the following code written thus far:"
   ]
  },
  {
   "cell_type": "code",
   "execution_count": null,
   "id": "ffe4b2b3",
   "metadata": {},
   "outputs": [],
   "source": [
    "import numpy as np\n",
    "\n",
    "n_sims = 100000\n",
    "rand = np.random.uniform(low=-1, high=1, size=(n_sims, 2))"
   ]
  },
  {
   "cell_type": "markdown",
   "id": "ffdc512d",
   "metadata": {},
   "source": [
    "How would you parallelize the NumPy array rand as an RDD? Using this parallelized RDD, how might you estimate pi?"
   ]
  },
  {
   "cell_type": "code",
   "execution_count": null,
   "id": "8b37e375",
   "metadata": {},
   "outputs": [],
   "source": []
  },
  {
   "cell_type": "markdown",
   "metadata": {},
   "source": [
    "## Activity 2\n",
    "\n",
    "1. Describe in words what is happening in each line of the PySpark code below. At which line will the code actually be executed? Why? You're encouraged to run the code in an EMR cluster and test it out!\n",
    "\n",
    "2. Consider the scalability of this code; if your number of tokens increases (i.e. into the millions) would you want to continue using the `collect` method? Why? What problems might you run into on your EMR cluster?"
   ]
  },
  {
   "cell_type": "code",
   "execution_count": null,
   "metadata": {},
   "outputs": [],
   "source": [
    "import re\n",
    "tokens = ['cat', 'dog', 'cat', 'rat', 'bat', 'frog', 'cat', 'dog']\n",
    "\n",
    "tokens_p = sc.parallelize(tokens).persist() \\\n",
    "             .map(lambda t: (t, 1)) \\\n",
    "             .filter(lambda t: re.search(r'[at]+', t[0])) \\\n",
    "             .reduceByKey(lambda a, b: a + b) \\\n",
    "             .collect()"
   ]
  }
 ],
 "metadata": {
  "kernelspec": {
   "display_name": "midway-debug",
   "language": "python",
   "name": "python3"
  },
  "language_info": {
   "codemirror_mode": {
    "name": "ipython",
    "version": 3
   },
   "file_extension": ".py",
   "mimetype": "text/x-python",
   "name": "python",
   "nbconvert_exporter": "python",
   "pygments_lexer": "ipython3",
   "version": "3.9.13"
  }
 },
 "nbformat": 4,
 "nbformat_minor": 5
}
